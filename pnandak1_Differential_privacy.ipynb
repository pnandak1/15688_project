{
 "cells": [
  {
   "cell_type": "markdown",
   "metadata": {},
   "source": [
    "# Privacy in Datascience\n",
    "\n",
    "## Name - Prashant Nandakumar | AndrewID - pnandak1\n",
    "\n",
    "## Introduction\n",
    "In light of the recent Cambridge Analytica leaks, it has become apparent that protecting user privacy should be considered with utmost importance, especially when that data is used as the source for analytics and extracting other insights. Some even argue that applications like Facebook have no business storing user actions (likes, reactions etc.), let alone sell them to advertisers.While data privacy has been clubbed with security (both being applications of crypto), it has not been until the 2000s that formal approaches to studying privacy have emerged. While naïve attempts at anonymizing user information like masking user ID or username fall prey to linkage attacks (essentially cross referencing the\n",
    "data with other available data sources), new techniques like k-anonymity, differential privacy aim at modifying the published data either by collating features in the former or by adding perturbations in the latter. In recent years, differential privacy has emerged as a popular choice since it has privacy built into its definition and practical implementations of the same have been considered to have “Good enough” privacy. Of course this comes at a cost as modifying data by adding noise would also affect the utility/accuracy of the same. In this project, I analyse the utility/privacy tradeoffs in some Differential Privacy(DP) techniques."
   ]
  },
  {
   "cell_type": "markdown",
   "metadata": {},
   "source": [
    "## Differential Privacy\n",
    "Consider the below setting. <br>\n",
    "<img src=\"http://drive.google.com/uc?export=view&id=1IRd7dmxUr6SvVrhJ3RX0c_O5l8ZwRhbF\"><br>\n",
    "Participants contribute information to a database. The database curator either publishes the data directly or exposes a query interface to the data. Interested parties then query the database to obtain relevant information. In this setting, what is the guarantee that a user's individual contribution is completely protected. If the database were to have sensitive information like health data, PII, or (how many Justin Bieber albums does one own?), what guarantees would a person expect so that his/her contribution is not compromised in a privacy breach? <br>\n",
    "\n",
    "Differential privacy builds on the premise that a person might feel comfortable contributing data if it can be guaranteed that nothing new would be learnt about them from participating in the database, than what would've been possible otherwise.\n",
    "\n",
    "Given an algorithm A that outputs value λ when run on a dataset V, the goal of differential privacy is to ‘hide’ the effect of a small change in V on the output of A. Equivalently, an attacker should not be able to tell if a private record was swapped in V just by looking at the output of A. If two datasets V and V' differ by swapping a single element, we will refer to them as neighboring datasets. Note that any non-trivial algorithm (i.e., an algorithm A that outputs different values on V and V') must incorporate some randomness for a change in V to be unobservable in the output. <br>\n",
    "This brings us to the formal definition of Differential Privacy -<br>\n",
    "\n",
    "$$Pr[A(V) = \\lambda ] = e^{\\varepsilon }Pr[A(V') = \\lambda ] $$\n",
    "\n",
    "For two neighbouring datasets V and V' that differs by one entry, a mechanism A is considered to be differentially private if it satisfies the equation above.  <br>\n",
    "The above definition is called \"$\\varepsilon$ - differential privacy\", where  $\\varepsilon$ is a tunable parameter. It is quite apparent that lower the value of $\\varepsilon$, higher the privacy since $Pr[A(V) = \\lambda ]$ and $Pr[A(V') = \\lambda ]$ would start to appear more and more similar. Privacy is maximum when  $\\varepsilon$ is 0.\n"
   ]
  },
  {
   "cell_type": "markdown",
   "metadata": {},
   "source": [
    "## Laplace Mechanism\n",
    "The global sensitivity of an algorithm A over all neighboring datasets V, V' where V and V' differ by one record is given by-<br>\n",
    "\n",
    "$$\\Delta_{A} = max_{V,V'\\subseteq X} \\left \\| A(V) - A(V') \\right \\|_{1}$$\n",
    "\n",
    "That is the worst case difference between A(V) and A(V') for all possible V and V' combinations.\n",
    "\n",
    "Given a dataset $V$ and an algorithm $A$, the Laplace mechanism returns A(V) + ω, where ω is a noise variable drawn from $Lap(\\Delta _{A}/\\varepsilon )$, the Laplace distribution with scale parameter $\\Delta _{A}/\\varepsilon$ (and location parameter 0). Dworak et al. have shown that this mechanism is differentially private. For a formal proof, please refer to their work\n"
   ]
  },
  {
   "cell_type": "markdown",
   "metadata": {},
   "source": [
    "As an example. lets treat the counting operation on the star(*) ratings of restaurants in Yelp as a private operation, the laplace mechanism can be applied as follows."
   ]
  },
  {
   "cell_type": "markdown",
   "metadata": {},
   "source": [
    "### Data Collection from Yelp"
   ]
  },
  {
   "cell_type": "markdown",
   "metadata": {},
   "source": [
    "Since Yelp lets you collect only 1000 business entries per search query, we shall break down the search query of a city using the bearing angle. <br>\n",
    "The old API allowed one to perform a grid search. But that has now been removed. The new API allows one to search using latitude, longitude + radius. We shall use the bearing angle and the co-ordinate search to get a full listing of businesses in a city\n",
    "The bearing angle is a term borrowed from navigation, which essentially indicates the angle between the geographic north and the desired direction in a clockwise direction. The figure below illustrates bearing angles of 65 and 300 degrees.\n",
    "<img src=\"http://drive.google.com/uc?export=view&id=145G8g-olylKOJtsvQXUosZoek11IkOHd\">\n",
    "\n",
    "Using a center latitude, longitude co-ordinate, distance and bearing angle, one can get the latitude, longitude co-ordinates of the new location.<br>\n",
    "Thus we will break down our search of a region into 5 sub-searches using bearing angles of [45,135,225,315] like so-\n",
    "<img src=\"http://drive.google.com/uc?export=view&id=1wDlsaQMVCquUC2wMg8sxx5UHrp8RLsI5\">\n",
    "We shall then remove all the overlapping businesses"
   ]
  },
  {
   "cell_type": "code",
   "execution_count": null,
   "metadata": {},
   "outputs": [],
   "source": [
    "import geopy\n",
    "from geopy.distance import VincentyDistance\n",
    "import io, time, json\n",
    "import requests\n",
    "\n",
    "def get_coord(api_key, lat, lon, s, d):\n",
    "    response = requests.get('https://api.yelp.com/v3/businesses/search', headers = {'Authorization': 'Bearer {}'.format(api_key)}, \n",
    "                            params= {'latitude':lat, 'longitude':lon, 'radius':d } )\n",
    "    print(response)\n",
    "    data = response.json()\n",
    "    total = data['total']\n",
    "    print(total)\n",
    "    if total > 1000:\n",
    "        #print('Alarm...query returned more than 1000 entries...recurse!')\n",
    "        total = 1000\n",
    "    names = []\n",
    "    for each in data['businesses']:\n",
    "        j = each#json.loads(each)\n",
    "        if j['id'] not in s:\n",
    "            names.append(each)\n",
    "            s.add(j['id'])\n",
    "    read = len(data['businesses'])\n",
    "    offset = read\n",
    "    n_page = read\n",
    "    while total > read:\n",
    "        time.sleep(0.2)\n",
    "        response = requests.get('https://api.yelp.com/v3/businesses/search', headers = {'Authorization': 'Bearer {}'.format(api_key)}, \\\n",
    "                            params= {'latitude':lat, 'longitude':lon, 'radius':d , 'limit': n_page, 'offset': offset} )\n",
    "        data = response.json()\n",
    "        read += len(data['businesses'])\n",
    "        for each in data['businesses']:\n",
    "            j = each#json.loads(each)\n",
    "            if j['id'] not in s:\n",
    "                names.append(each)\n",
    "                s.add(j['id'])    \n",
    "        offset += n_page\n",
    "        \n",
    "    return names\n",
    "\n",
    "def all_businesses(api_key, lat, lon, area=0):\n",
    "    \"\"\"\n",
    "    Retrieve ALL the restaurants on Yelp for a given query.\n",
    "\n",
    "    Args:\n",
    "        query (string): Search term\n",
    "\n",
    "    Returns:\n",
    "        results (list): list of dicts representing each business\n",
    "    \"\"\"\n",
    "    res = []\n",
    "    s = set()\n",
    "    d = 6000#10*1.6*1000\n",
    "    res += get_coord(api_key, lat, lon, s, d)\n",
    "    \n",
    "    bearing = [45,135,225,315]\n",
    "    for b in bearing:\n",
    "        origin = geopy.Point(lat, lon)\n",
    "        destination = VincentyDistance(kilometers=1.5*d/1000).destination(origin, b)\n",
    "        lat2, lon2 = destination.latitude, destination.longitude\n",
    "        res +=  get_coord(api_key, lat2, lon2, s, d)\n",
    "    return res\n",
    "# AUTOLAB_IGNORE_START\n",
    "api_key = read_api_key('api_key.txt')\n",
    "#Reno = 39.5296, -119.8138\n",
    "#salt lake = 40.7608, -111.8910\n",
    "#modesto = 37.6391, -120.9969\n",
    "names = all_businesses(api_key,38.5816, -121.4944)\n",
    "\n",
    "def read_api_key(filepath):\n",
    "    with open('api_key.txt', 'r') as f:\n",
    "        return f.read().replace('\\n','')\n",
    "\n",
    "api_key = read_api_key('api_key.txt')\n",
    "#Sacramento = 38.5816, -121.4944, area = 100 sq.miles\n",
    "names = all_businesses(api_key, 38.5816, -121.494)\n"
   ]
  },
  {
   "cell_type": "code",
   "execution_count": 465,
   "metadata": {},
   "outputs": [],
   "source": [
    "ratings = [i['rating'] for i in names] "
   ]
  },
  {
   "cell_type": "markdown",
   "metadata": {},
   "source": [
    "The global sensitivity of the ratings information is 5.0. This is because a businesses added/deleted can have a rating of atmost 5. Thus if the count needs to be released privately, you would add the actual result with a laplace obtained with this sensitivity parameter, and say an epsilon of 1\n",
    "np.random.laplace(scale=500,size=1)"
   ]
  },
  {
   "cell_type": "code",
   "execution_count": 483,
   "metadata": {},
   "outputs": [
    {
     "name": "stdout",
     "output_type": "stream",
     "text": [
      "privately released rating sum  [7821.74452567]\n"
     ]
    }
   ],
   "source": [
    "epsilon = 1\n",
    "sensitivity = 5\n",
    "scale = sensitivity/epsilon\n",
    "print('privately released rating sum ', sum(ratings) + np.random.laplace(scale=scale,size=1))"
   ]
  },
  {
   "cell_type": "code",
   "execution_count": 482,
   "metadata": {},
   "outputs": [
    {
     "name": "stdout",
     "output_type": "stream",
     "text": [
      "actual rating sum  7818.0\n"
     ]
    }
   ],
   "source": [
    "print('actual rating sum ', sum(ratings))"
   ]
  },
  {
   "cell_type": "markdown",
   "metadata": {},
   "source": [
    "While laplace mechanism works well for a single dimensional query, more involved schemes are necessary for multi-dimensional queries."
   ]
  },
  {
   "cell_type": "markdown",
   "metadata": {},
   "source": [
    "## Note:\n",
    "At this point it should be noted that Differential Privacy essentially involves adding noise to a query, in order to provide the necessary privacy guarantees. THe kind of noise added depends on the query mechanism, the quantity being queried, the number of queries to be made etc.<br>\n",
    "One is referred to Cynthia Dworak's seminal work for a complete treatment of the same.\n",
    "There is no one size fits all approach to DP ie. there is no black box solution to making a mechanism differentially private. THe approach instead depends on the underlying operation being performed. You have different approaches for classification, machine learning, bayesian optimization etc. \n"
   ]
  },
  {
   "cell_type": "markdown",
   "metadata": {},
   "source": [
    "## Mechanisms:\n",
    "THere are several mechanisms for achieving differential privacy:\n",
    "* <b>Input perturbation:</b>\n",
    "Noise is added to the input. Schemes like these would be of most use on personal devices. eg: Apple uses differential privacy on handsets to capture keyboard usage data.\n",
    "\n",
    "* <b>Output perturbation:</b>\n",
    "Noise is added to the output of a query. Similar to what we just saw with the laplace mechanism. However, as we shall see the nature of noise depends very much on the kind of operation taking place.\n",
    "\n",
    "* <b>Objective Mechanism:</b>\n",
    "Instead of adding noise to the input or the output of an operation, noise is added to the objective function while optimization.\n",
    "\n",
    "* <b>Exponential Mechanism:</b>\n",
    "This draws a random output O', such that O' is the closest to the real output O.\n",
    "\n",
    "<img src=\"http://drive.google.com/uc?export=view&id=1Fm5GgS8nnYekSB-GAWHaRHMyZBxGQ-p4\">\n",
    "\n"
   ]
  },
  {
   "cell_type": "markdown",
   "metadata": {},
   "source": [
    "In the following sections, we shall study the output perturbation and objective perturbation of logistic regression models as discussed by Chaudhuri et al. <br>\n",
    "Note that all the algorithms in the following sections and their proofs for achieving differential privacy can be found in the paper - <br>\n",
    "<b>\"Differentially Private Empirical Risk Minimization\"</b> - Kamalika Chaudhuri, Claire Monteleoni and Anand D. Sarwate."
   ]
  },
  {
   "cell_type": "code",
   "execution_count": 399,
   "metadata": {},
   "outputs": [],
   "source": [
    "from numpy import *\n",
    "from pylab import norm\n",
    "from scipy.optimize import minimize\n",
    "import numpy as np\n",
    "import pandas as pd\n",
    "import matplotlib.pyplot as plt"
   ]
  },
  {
   "cell_type": "markdown",
   "metadata": {},
   "source": [
    "## Comparison of Output and Objective Perturbation in Logistic Regression\n",
    "For the following sections, we will be using the \"Adults\" census dataset from the UCI Machine learning repository. The initial plan was to use the Yelp or Netflix dataset, but owing to time and resource(This being a single person project), I decided to use the UCI dataset instead. <br>\n",
    "We shall be studying a binary classification problem, where the goal is to identify whether the individuals make more than 50K or less than 50K. <br>\n",
    "The labels used are {+1, -1} and as a result, the loss function is given by -\n",
    "$$J = log(1+e^{-z}) where z = y*x.\\Theta $$\n",
    "\n",
    "\n",
    "### Model Privacy\n",
    "These mechanisms provide what is known as model privacy. Given a trained model, one should not be able to infer anything about the data that it was trained on. While this might seem a bit far-fetched. It should be noted that machine learning models have grown in complexity over the years, and the inner workings of some of the deep-learning models is not fully understood. It was shown by Fredrikson et al. that it is possible to obtain a training image from a facial recognition system, only given the target classification. The mechanisms discussed(specifically objective perturbation) can be applied to any optimization method involving stochastic gradient descent.\n",
    "<img src=\"http://drive.google.com/uc?export=view&id=1PqD5JvWmbs2AVUNU0MlODtbfcGWtp_zJ\">"
   ]
  },
  {
   "cell_type": "markdown",
   "metadata": {},
   "source": [
    "### Data Preprocessing\n",
    "* Load the dataset, replace the income field with {+1, -1 } labels.\n",
    "* Convert categorical columns to binary fields. \n",
    "* Normalize columns such that maximum value is 1.\n",
    "* Normalize rows such that the norm is at most 1. Note that this normalization step is absolutely crucial, as the algorithm is proven to be differentially private only if this condition holds."
   ]
  },
  {
   "cell_type": "code",
   "execution_count": 484,
   "metadata": {
    "collapsed": true
   },
   "outputs": [],
   "source": [
    "def load_data(file_name):\n",
    "    \"\"\" loads and processes data in the manner specified above\n",
    "    Inputs:\n",
    "        file_name (str): path to csv file containing data\n",
    "    Outputs:\n",
    "        pd.DataFrame: processed dataframe\n",
    "    \"\"\"\n",
    "    df = pd.read_csv(file_name)\n",
    "    for i in df:\n",
    "        if not np.issubdtype(df[i].dtype, np.number):\n",
    "            df.drop(df[df[i] == '?'].index, inplace=True)\n",
    "            \n",
    "    df['label'] = np.where(df['income']=='<=50K', -1, 1)\n",
    "    df.drop(['income'], axis=1, inplace=True)\n",
    "    return df.reset_index(drop=True)\n",
    "\n",
    "# AUTOLAB_IGNORE_START\n",
    "df = load_data('adults.csv')\n"
   ]
  },
  {
   "cell_type": "code",
   "execution_count": 485,
   "metadata": {},
   "outputs": [
    {
     "name": "stdout",
     "output_type": "stream",
     "text": [
      "(30162, 1)\n"
     ]
    }
   ],
   "source": [
    "df1 = pd.get_dummies(df)\n",
    "\n",
    "labels = np.array(df1['label'], dtype = 'int32')\n",
    "df2 = df1.drop(['label'], axis=1)\n",
    "x = df2.as_matrix()\n",
    "\n",
    "x_max = np.max(x, axis = 0)\n",
    "y = x/x_max\n",
    "denom = np.linalg.norm(y, axis = 1)[:, None]\n",
    "print(denom.shape)\n",
    "x = y/denom"
   ]
  },
  {
   "cell_type": "markdown",
   "metadata": {},
   "source": [
    "### Train and Test datasets\n",
    "Split the original dataset into train and test datasets. Also create datasets of multiple sizes. We shall also study the accuracy/privacy tradeoffs on datasets of varying sizes."
   ]
  },
  {
   "cell_type": "code",
   "execution_count": 391,
   "metadata": {
    "collapsed": true
   },
   "outputs": [],
   "source": [
    "split = int(len(x)*3/4)\n",
    "x_train = x[:split]\n",
    "y_train = labels[:split]\n",
    "x_test = x[split:]\n",
    "y_test = labels[split:]\n",
    "\n",
    "l = len(x_train)//4\n",
    "lt = len(x_test)//4\n",
    "x_train_s = x_train[:l]\n",
    "y_train_s = y_train[:l]\n",
    "x_test_s = x_test[:lt]\n",
    "y_test_s = y_test[:lt]\n",
    "\n",
    "sz = [3000,4000,7000,10000,15000]\n",
    "datasets = []\n",
    "for i in sz:\n",
    "    x_tr = x_train[:i]\n",
    "    y_tr = y_train[:i]\n",
    "    x_te = x_test[:i//3]\n",
    "    y_te = y_test[:i//3]\n",
    "    datasets.append((x_tr, y_tr, x_te, y_te))\n"
   ]
  },
  {
   "cell_type": "markdown",
   "metadata": {},
   "source": [
    "### Output Perturbation\n",
    "\n",
    "The algorithm for output perturbation is as follows -\n",
    "\n",
    "<img src=\"http://drive.google.com/uc?export=view&id=1l_BVSJi9mvbCJJhXxy8XL8LdCDpLMpZd\">\n",
    "<center>(Picture taken from Chaudhuri et al.) </center><br>\n",
    "The noise to be added is distributed as $v(b)$ = $\\frac{1}{\\alpha }e^{-\\beta\\left \\| b \\right \\|}$\n",
    "It is not straightforward to sample from this distribution. Instead we perform the sampling in two steps. This information is borrowed from pg.71 of- http://cseweb.ucsd.edu/~kamalika/pubs/WIFStutorial.pdf\n",
    "* Sample the direction of the noise vector from a uniform distribution\n",
    "* Sample the norm of the vector from a gamma distribution\n",
    "\n",
    "Here, we use a simple logistic loss function and minimize the same using gradient descent."
   ]
  },
  {
   "cell_type": "code",
   "execution_count": 324,
   "metadata": {},
   "outputs": [],
   "source": [
    "def noisevector(scale, Length):\n",
    "    r1 = np.random.uniform(size = Length) # Get direction from a uniform distribution\n",
    "    n1 = norm(r1) \n",
    "    \n",
    "    r2 = r1/n1 # Get unit vector\n",
    "    \n",
    "    normn = random.gamma(Length, 1/scale, 1)\n",
    "\n",
    "    res = r2*normn # Multiply with Norm from Gamma distribution\n",
    "    return res\n",
    "\n",
    "def lr(z):\n",
    "    logr = log(1+exp(-z)) # logistic loss for {+1,-1}\n",
    "    return logr\n",
    "\n",
    "\n",
    "def lr_output_perturbation_train(data, labels,eps, lamda=0.1 , num_iters=1000):\n",
    "\n",
    "    L = len(labels)\n",
    "    l = len(data[0])\n",
    "    scale = L* lamda * eps/2 \n",
    "    noise = noisevector(scale, l)\n",
    "\n",
    "    theta = np.random.random(data.shape[1])\n",
    "\n",
    "    def obj_func(x):\n",
    "        \n",
    "        j = lr(labels*dot(data,x)).sum()\n",
    "        f = (1/L)*j + (1/2)*lamda*(norm(x)**2)\n",
    "        return f\n",
    "    \n",
    "    for t in range(num_iters):\n",
    "        #print(obj_func(theta))\n",
    "        # deduct gradient = -x.y/(1+exp(x.y.theta))...learning rate = 1\n",
    "        num = -labels[:,None]*data\n",
    "        denom = (1+np.exp((labels*dot(data,theta))))\n",
    "        grad = num/denom[:,None]\n",
    "        theta -= 1*grad.mean(axis=0)\n",
    "    \n",
    "    fpriv = theta + noise\n",
    "\n",
    "\n",
    "    return fpriv, theta\n"
   ]
  },
  {
   "cell_type": "markdown",
   "metadata": {},
   "source": [
    "Obtain the classifier for various settings of $\\varepsilon$ along with the baseline(no privacy) and calculate error rate for each of them."
   ]
  },
  {
   "cell_type": "code",
   "execution_count": 426,
   "metadata": {},
   "outputs": [],
   "source": [
    "model_p, model_np = lr_output_perturbation_train(x_train_s, y_train_s, 0.05)"
   ]
  },
  {
   "cell_type": "code",
   "execution_count": 335,
   "metadata": {
    "collapsed": true
   },
   "outputs": [],
   "source": [
    "def error_rate_compute(data, labels, classifier):\n",
    "    e = 0\n",
    "    n = len(labels)\n",
    "    for i in range(n):\n",
    "        sign = labels[i]*dot(classifier,data[i])\n",
    "        if sign<0:\n",
    "            e = e + 1\n",
    "    res = e/n\n",
    "    return res"
   ]
  },
  {
   "cell_type": "code",
   "execution_count": 432,
   "metadata": {},
   "outputs": [],
   "source": [
    "baseline_err = error_rate_compute(x_test_s, y_test_s,model_np )"
   ]
  },
  {
   "cell_type": "code",
   "execution_count": 448,
   "metadata": {},
   "outputs": [],
   "source": [
    "eps = [0.05, 0.1, 0.15, 0.2, 0.3,0.4,0.5]\n",
    "lr_op = []\n",
    "for i in eps:\n",
    "    L = len(y_train_s)\n",
    "    l = len(x_train_s[0])\n",
    "    scale = L*0.1*i/2\n",
    "    noise = noisevector(scale, l)\n",
    "    fpriv = model_np + noise\n",
    "    lr_op.append(error_rate_compute(x_test_s, y_test_s,fpriv ))"
   ]
  },
  {
   "cell_type": "code",
   "execution_count": 449,
   "metadata": {},
   "outputs": [
    {
     "data": {
      "image/png": "[encoded data removed]",
      "text/plain": [
       "<Figure size 432x288 with 1 Axes>"
      ]
     },
     "metadata": {},
     "output_type": "display_data"
    }
   ],
   "source": [
    "plt.plot(eps, [baseline_err]*len(eps), label='non-private')\n",
    "plt.plot(eps, lr_op, label='output perturbation')\n",
    "plt.xlabel('Epsilon')\n",
    "plt.ylabel('Error rate')\n",
    "plt.legend()\n",
    "plt.show()"
   ]
  },
  {
   "cell_type": "markdown",
   "metadata": {},
   "source": [
    "Note that accuracy increases, with increase in epsilon. This is because, privacy decreases when epsilon increases."
   ]
  },
  {
   "cell_type": "markdown",
   "metadata": {},
   "source": [
    "## Logistic regression with Objective perturbation \n",
    "The algorithm for logistic regression with objective perturbation is as follows -\n",
    "<img src=\"http://drive.google.com/uc?export=view&id=1PVX8OSe3YhteAEwZw7Y3MXNb1H-TJ77w\">\n",
    "<center>(Picture taken from Chaudhuri et al.) </center><br>\n",
    "\n",
    "Here, the noise is added to the objective(and hence the gradient) during optimization. The noise vector is sampled similar to what was shown for output perturbation. "
   ]
  },
  {
   "cell_type": "code",
   "execution_count": 375,
   "metadata": {
    "collapsed": true
   },
   "outputs": [],
   "source": [
    "def lr_objective_train(data, labels, epsilon, lamda=1e-4):\n",
    "    c = 1/4\n",
    "    L = len(labels)#number of data points in the data set\n",
    "    l = len(data[0])#length of a data point\n",
    "    \n",
    "    param = c/(lamda*L)\n",
    "    epsilonp = epsilon-2*log(1+ 2*param + param**2)\n",
    "    \n",
    "    if epsilonp>0:\n",
    "        delta = 0\n",
    "    else:\n",
    "        delta = c/(L*(exp(epsilon/4)-1))-lamda\n",
    "        epsilonp = epsilon/2\n",
    "        \n",
    "    scale = epsilonp/2 \n",
    "    noise = noisevector(scale, l)\n",
    "    \n",
    "    theta = np.random.random(data.shape[1])\n",
    "\n",
    "    def obj_func(x):\n",
    "        jfd = lr(labels*dot(data,x)).sum()\n",
    "        f = (1/L)*jfd + (1/2)*lamda*(norm(x)**2) + (1/L)*dot(noise,x) + (1/2)*Delta*(norm(x)**2)\n",
    "        return f\n",
    "    \n",
    "    for t in range(1000):\n",
    "        num = -labels[:,None]*data\n",
    "        denom = (1+np.exp((labels*dot(data,theta))))\n",
    "        grad = num/denom[:,None]\n",
    "        noise = noisevector(scale, l)\n",
    "        grad = grad.mean(axis=0) + lamda*theta + noise/L  + delta*theta\n",
    "        theta -= 1*grad\n",
    "    \n",
    "    fpriv = theta\n",
    "    \n",
    "    return fpriv"
   ]
  },
  {
   "cell_type": "markdown",
   "metadata": {},
   "source": [
    "We capture error rates for various privacy ($\\varepsilon$) settings."
   ]
  },
  {
   "cell_type": "code",
   "execution_count": 376,
   "metadata": {},
   "outputs": [],
   "source": [
    "models = {}\n",
    "for each in eps:\n",
    "    models[each] = lr_objective_train(x_train_s, y_train_s, each)"
   ]
  },
  {
   "cell_type": "code",
   "execution_count": 437,
   "metadata": {},
   "outputs": [],
   "source": [
    "err_obj_pert = []\n",
    "for each in models:\n",
    "    err_obj_pert.append(error_rate_compute(x_test_s, y_test_s,models[each] ))"
   ]
  },
  {
   "cell_type": "code",
   "execution_count": 444,
   "metadata": {},
   "outputs": [
    {
     "data": {
      "image/png": "[encoded data removed]",
      "text/plain": [
       "<Figure size 432x288 with 1 Axes>"
      ]
     },
     "metadata": {},
     "output_type": "display_data"
    }
   ],
   "source": [
    "plt.plot(eps, [baseline_err]*len(eps), label='non-private')\n",
    "plt.plot(eps, err_obj_pert, label='objective perturbation')\n",
    "plt.xlabel('Epsilon')\n",
    "plt.ylabel('Error rate')\n",
    "plt.legend()\n",
    "plt.show()"
   ]
  },
  {
   "cell_type": "markdown",
   "metadata": {},
   "source": [
    "Note that accuracy increases, with increase in epsilon. This is in line with our observation earlier."
   ]
  },
  {
   "cell_type": "markdown",
   "metadata": {},
   "source": [
    "### Comparing output vs objective perturbation"
   ]
  },
  {
   "cell_type": "code",
   "execution_count": 450,
   "metadata": {},
   "outputs": [
    {
     "data": {
      "image/png": "[encoded data removed]",
      "text/plain": [
       "<Figure size 432x288 with 1 Axes>"
      ]
     },
     "metadata": {},
     "output_type": "display_data"
    }
   ],
   "source": [
    "plt.plot(eps, [baseline_err]*len(eps), label='non-private')\n",
    "plt.plot(eps, lr_op, label='output perturbation')\n",
    "plt.plot(eps, err_obj_pert, label='objective perturbation')\n",
    "plt.xlabel('Epsilon')\n",
    "plt.ylabel('Error rate')\n",
    "plt.legend()\n",
    "plt.show()"
   ]
  },
  {
   "cell_type": "markdown",
   "metadata": {},
   "source": [
    "For a given privacy parameter $\\varepsilon$ it is quite evident that objective perturbation performs better than output perturbation. This is in line with the result published by Chaudhuri et al."
   ]
  },
  {
   "cell_type": "code",
   "execution_count": 392,
   "metadata": {
    "collapsed": true
   },
   "outputs": [],
   "source": [
    "eps = 0.1\n",
    "np_err = []\n",
    "priv_op_err = []\n",
    "priv_obj_err = []\n",
    "for each in datasets:\n",
    "    x_tr, y_tr, x_test, y_test = each \n",
    "    priv, n_priv = lr_output_perturbation_train(x_tr,y_tr, eps)\n",
    "    priv_o = lr_objective_train( x_tr, y_tr, eps)\n",
    "    np_err.append(error_rate_compute(x_test,y_test,n_priv ))\n",
    "    priv_op_err.append(error_rate_compute(x_test,y_test,priv ))\n",
    "    priv_obj_err.append(error_rate_compute(x_test,y_test,priv_o ))"
   ]
  },
  {
   "cell_type": "markdown",
   "metadata": {},
   "source": [
    "### Num training samples vs accuracy for a given privacy setting $\\varepsilon = 0.1$"
   ]
  },
  {
   "cell_type": "code",
   "execution_count": 425,
   "metadata": {},
   "outputs": [
    {
     "data": {
      "image/png": "[encoded data removed]",
      "text/plain": [
       "<Figure size 432x288 with 1 Axes>"
      ]
     },
     "metadata": {},
     "output_type": "display_data"
    }
   ],
   "source": [
    "plt.plot(sz, np_err, label='non-private')\n",
    "plt.plot(sz, priv_op_err, label='output perturbation')\n",
    "plt.plot(sz, priv_obj_err,label = 'objective perturbation')\n",
    "plt.xlabel('Num samples')\n",
    "plt.ylabel('Error rate')\n",
    "plt.legend()\n",
    "plt.show()"
   ]
  },
  {
   "cell_type": "markdown",
   "metadata": {},
   "source": [
    "# Conclusions and Future work\n",
    "It is seen that for a given privacy setting, objective perturbation performs better than output perturbation. We also see from the chart above that for a given $\\varepsilon$, accuracy increases when the number of training samples increases. <br>\n",
    "Carry out similar analysis for techniques based on input perturbations and other mechanisms such as gaussian processes."
   ]
  },
  {
   "cell_type": "markdown",
   "metadata": {},
   "source": [
    "# References\n",
    "1) Kamalika Chaudhuri, Claire Monteleoni, Anand D.Sarwate - Differentially Private Emperical Risk Minimization http://www.jmlr.org/papers/volume12/chaudhuri11a/chaudhuri11a.pdf\n",
    "\n",
    "2) Cynthia Dworok, Aaron Roth - The algorithmic foundations of Differential Privacy - https://www.cis.upenn.edu/~aaroth/Papers/privacybook.pdf\n",
    "\n",
    "3) Matt Fredrikson, Somesh Jha, Thomas Ristenpart - Model Inversion Attacks that Exploit Confidence Information and Basic Countermeasures - https://www.cs.cmu.edu/~mfredrik/papers/fjr2015ccs.pdf"
   ]
  },
  {
   "cell_type": "code",
   "execution_count": null,
   "metadata": {
    "collapsed": true
   },
   "outputs": [],
   "source": []
  }
 ],
 "metadata": {
  "kernelspec": {
   "display_name": "Python [default]",
   "language": "python",
   "name": "python3"
  },
  "language_info": {
   "codemirror_mode": {
    "name": "ipython",
    "version": 3
   },
   "file_extension": ".py",
   "mimetype": "text/x-python",
   "name": "python",
   "nbconvert_exporter": "python",
   "pygments_lexer": "ipython3",
   "version": "3.6.3"
  }
 },
 "nbformat": 4,
 "nbformat_minor": 2
}
